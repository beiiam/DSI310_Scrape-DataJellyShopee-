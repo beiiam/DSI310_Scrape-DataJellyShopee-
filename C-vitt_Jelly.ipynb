{
 "cells": [
  {
   "cell_type": "markdown",
   "id": "dd38774b",
   "metadata": {},
   "source": [
    "# Install package ที่จำเป็นต้องใช้"
   ]
  },
  {
   "cell_type": "code",
   "execution_count": 4,
   "id": "3ab0df40",
   "metadata": {
    "scrolled": true
   },
   "outputs": [
    {
     "name": "stderr",
     "output_type": "stream",
     "text": [
      "ERROR: Invalid requirement: '#selenium'\n",
      "ERROR: Invalid requirement: '#beautiful'\n"
     ]
    }
   ],
   "source": [
    "!pip install selenium #selenium\n",
    "!pip install bs4 #beautiful soup"
   ]
  },
  {
   "cell_type": "markdown",
   "id": "59a2d630",
   "metadata": {},
   "source": [
    "# Import function ที่จำเป็น"
   ]
  },
  {
   "cell_type": "code",
   "execution_count": 5,
   "id": "c9366b0e",
   "metadata": {},
   "outputs": [],
   "source": [
    "import pandas as pd\n",
    "from selenium import webdriver\n",
    "from selenium.webdriver.firefox.options import Options\n",
    "from selenium.webdriver.common.keys import Keys\n",
    "import bs4\n",
    "import time\n",
    "import re\n",
    "import csv \n",
    "from bs4 import BeautifulSoup \n",
    "from msedge.selenium_tools import Edge,EdgeOptions"
   ]
  },
  {
   "cell_type": "markdown",
   "id": "88e70010",
   "metadata": {},
   "source": [
    "# สร้าง Web driver ของ Firefox\n",
    "โดยการเช็ค Version Driver ก่อน Download https://github.com/mozilla/geckodriver/releases\n",
    "\n",
    "เพื่อใช้ในการเปิด Website ที่ต้องการ Scraping ( Selenium เหมาะกับการใช้เปิด website ประเภท Dynamic Website )\n",
    "\n",
    "ในส่วน options.binary_location ให้เลือกที่อยู่ของ Firefox driver = webdriver.Firefox executable_path ให้ทำการเก็บไฟล์ที่ได้จากการ download driver บนเว็ปไซต์ไว้ในตำแหน่งเดียวกันกับตัวไฟล์"
   ]
  },
  {
   "cell_type": "code",
   "execution_count": 6,
   "id": "d78a13f0",
   "metadata": {},
   "outputs": [
    {
     "ename": "WebDriverException",
     "evalue": "Message: 'geckodriver.exe' executable needs to be in PATH. \n",
     "output_type": "error",
     "traceback": [
      "\u001b[1;31m---------------------------------------------------------------------------\u001b[0m",
      "\u001b[1;31mFileNotFoundError\u001b[0m                         Traceback (most recent call last)",
      "File \u001b[1;32mc:\\ProgramData\\Miniconda3\\lib\\site-packages\\selenium\\webdriver\\common\\service.py:72\u001b[0m, in \u001b[0;36mService.start\u001b[1;34m(self)\u001b[0m\n\u001b[0;32m     71\u001b[0m     cmd\u001b[39m.\u001b[39mextend(\u001b[39mself\u001b[39m\u001b[39m.\u001b[39mcommand_line_args())\n\u001b[1;32m---> 72\u001b[0m     \u001b[39mself\u001b[39m\u001b[39m.\u001b[39mprocess \u001b[39m=\u001b[39m subprocess\u001b[39m.\u001b[39;49mPopen(cmd, env\u001b[39m=\u001b[39;49m\u001b[39mself\u001b[39;49m\u001b[39m.\u001b[39;49menv,\n\u001b[0;32m     73\u001b[0m                                     close_fds\u001b[39m=\u001b[39;49mplatform\u001b[39m.\u001b[39;49msystem() \u001b[39m!=\u001b[39;49m \u001b[39m'\u001b[39;49m\u001b[39mWindows\u001b[39;49m\u001b[39m'\u001b[39;49m,\n\u001b[0;32m     74\u001b[0m                                     stdout\u001b[39m=\u001b[39;49m\u001b[39mself\u001b[39;49m\u001b[39m.\u001b[39;49mlog_file,\n\u001b[0;32m     75\u001b[0m                                     stderr\u001b[39m=\u001b[39;49m\u001b[39mself\u001b[39;49m\u001b[39m.\u001b[39;49mlog_file,\n\u001b[0;32m     76\u001b[0m                                     stdin\u001b[39m=\u001b[39;49mPIPE)\n\u001b[0;32m     77\u001b[0m \u001b[39mexcept\u001b[39;00m \u001b[39mTypeError\u001b[39;00m:\n",
      "File \u001b[1;32mc:\\ProgramData\\Miniconda3\\lib\\subprocess.py:951\u001b[0m, in \u001b[0;36mPopen.__init__\u001b[1;34m(self, args, bufsize, executable, stdin, stdout, stderr, preexec_fn, close_fds, shell, cwd, env, universal_newlines, startupinfo, creationflags, restore_signals, start_new_session, pass_fds, user, group, extra_groups, encoding, errors, text, umask)\u001b[0m\n\u001b[0;32m    948\u001b[0m             \u001b[39mself\u001b[39m\u001b[39m.\u001b[39mstderr \u001b[39m=\u001b[39m io\u001b[39m.\u001b[39mTextIOWrapper(\u001b[39mself\u001b[39m\u001b[39m.\u001b[39mstderr,\n\u001b[0;32m    949\u001b[0m                     encoding\u001b[39m=\u001b[39mencoding, errors\u001b[39m=\u001b[39merrors)\n\u001b[1;32m--> 951\u001b[0m     \u001b[39mself\u001b[39;49m\u001b[39m.\u001b[39;49m_execute_child(args, executable, preexec_fn, close_fds,\n\u001b[0;32m    952\u001b[0m                         pass_fds, cwd, env,\n\u001b[0;32m    953\u001b[0m                         startupinfo, creationflags, shell,\n\u001b[0;32m    954\u001b[0m                         p2cread, p2cwrite,\n\u001b[0;32m    955\u001b[0m                         c2pread, c2pwrite,\n\u001b[0;32m    956\u001b[0m                         errread, errwrite,\n\u001b[0;32m    957\u001b[0m                         restore_signals,\n\u001b[0;32m    958\u001b[0m                         gid, gids, uid, umask,\n\u001b[0;32m    959\u001b[0m                         start_new_session)\n\u001b[0;32m    960\u001b[0m \u001b[39mexcept\u001b[39;00m:\n\u001b[0;32m    961\u001b[0m     \u001b[39m# Cleanup if the child failed starting.\u001b[39;00m\n",
      "File \u001b[1;32mc:\\ProgramData\\Miniconda3\\lib\\subprocess.py:1420\u001b[0m, in \u001b[0;36mPopen._execute_child\u001b[1;34m(self, args, executable, preexec_fn, close_fds, pass_fds, cwd, env, startupinfo, creationflags, shell, p2cread, p2cwrite, c2pread, c2pwrite, errread, errwrite, unused_restore_signals, unused_gid, unused_gids, unused_uid, unused_umask, unused_start_new_session)\u001b[0m\n\u001b[0;32m   1419\u001b[0m \u001b[39mtry\u001b[39;00m:\n\u001b[1;32m-> 1420\u001b[0m     hp, ht, pid, tid \u001b[39m=\u001b[39m _winapi\u001b[39m.\u001b[39;49mCreateProcess(executable, args,\n\u001b[0;32m   1421\u001b[0m                              \u001b[39m# no special security\u001b[39;49;00m\n\u001b[0;32m   1422\u001b[0m                              \u001b[39mNone\u001b[39;49;00m, \u001b[39mNone\u001b[39;49;00m,\n\u001b[0;32m   1423\u001b[0m                              \u001b[39mint\u001b[39;49m(\u001b[39mnot\u001b[39;49;00m close_fds),\n\u001b[0;32m   1424\u001b[0m                              creationflags,\n\u001b[0;32m   1425\u001b[0m                              env,\n\u001b[0;32m   1426\u001b[0m                              cwd,\n\u001b[0;32m   1427\u001b[0m                              startupinfo)\n\u001b[0;32m   1428\u001b[0m \u001b[39mfinally\u001b[39;00m:\n\u001b[0;32m   1429\u001b[0m     \u001b[39m# Child is launched. Close the parent's copy of those pipe\u001b[39;00m\n\u001b[0;32m   1430\u001b[0m     \u001b[39m# handles that only the child should have open.  You need\u001b[39;00m\n\u001b[1;32m   (...)\u001b[0m\n\u001b[0;32m   1433\u001b[0m     \u001b[39m# pipe will not close when the child process exits and the\u001b[39;00m\n\u001b[0;32m   1434\u001b[0m     \u001b[39m# ReadFile will hang.\u001b[39;00m\n",
      "\u001b[1;31mFileNotFoundError\u001b[0m: [WinError 2] The system cannot find the file specified",
      "\nDuring handling of the above exception, another exception occurred:\n",
      "\u001b[1;31mWebDriverException\u001b[0m                        Traceback (most recent call last)",
      "\u001b[1;32mc:\\Users\\beam_\\Desktop\\Project 314\\ขั้นตอนการทำงาน\\C-vitt_Jelly.ipynb Cell 6\u001b[0m in \u001b[0;36m<cell line: 3>\u001b[1;34m()\u001b[0m\n\u001b[0;32m      <a href='vscode-notebook-cell:/c%3A/Users/beam_/Desktop/Project%20314/%E0%B8%82%E0%B8%B1%E0%B9%89%E0%B8%99%E0%B8%95%E0%B8%AD%E0%B8%99%E0%B8%81%E0%B8%B2%E0%B8%A3%E0%B8%97%E0%B8%B3%E0%B8%87%E0%B8%B2%E0%B8%99/C-vitt_Jelly.ipynb#X46sZmlsZQ%3D%3D?line=0'>1</a>\u001b[0m options \u001b[39m=\u001b[39m Options()\n\u001b[0;32m      <a href='vscode-notebook-cell:/c%3A/Users/beam_/Desktop/Project%20314/%E0%B8%82%E0%B8%B1%E0%B9%89%E0%B8%99%E0%B8%95%E0%B8%AD%E0%B8%99%E0%B8%81%E0%B8%B2%E0%B8%A3%E0%B8%97%E0%B8%B3%E0%B8%87%E0%B8%B2%E0%B8%99/C-vitt_Jelly.ipynb#X46sZmlsZQ%3D%3D?line=1'>2</a>\u001b[0m options\u001b[39m.\u001b[39mbinary_location \u001b[39m=\u001b[39m \u001b[39mr\u001b[39m\u001b[39m'\u001b[39m\u001b[39mC:\u001b[39m\u001b[39m\\\u001b[39m\u001b[39mProgram Files\u001b[39m\u001b[39m\\\u001b[39m\u001b[39mMozilla Firefox\u001b[39m\u001b[39m\\\u001b[39m\u001b[39mfirefox.exe\u001b[39m\u001b[39m'\u001b[39m\n\u001b[1;32m----> <a href='vscode-notebook-cell:/c%3A/Users/beam_/Desktop/Project%20314/%E0%B8%82%E0%B8%B1%E0%B9%89%E0%B8%99%E0%B8%95%E0%B8%AD%E0%B8%99%E0%B8%81%E0%B8%B2%E0%B8%A3%E0%B8%97%E0%B8%B3%E0%B8%87%E0%B8%B2%E0%B8%99/C-vitt_Jelly.ipynb#X46sZmlsZQ%3D%3D?line=2'>3</a>\u001b[0m driver \u001b[39m=\u001b[39m webdriver\u001b[39m.\u001b[39;49mFirefox(executable_path\u001b[39m=\u001b[39;49m\u001b[39mr\u001b[39;49m\u001b[39m'\u001b[39;49m\u001b[39mC:\u001b[39;49m\u001b[39m\\\u001b[39;49m\u001b[39mUsers\u001b[39;49m\u001b[39m\\\u001b[39;49m\u001b[39mG15\u001b[39;49m\u001b[39m\\\u001b[39;49m\u001b[39mDownloads\u001b[39;49m\u001b[39m\\\u001b[39;49m\u001b[39mshoppee\u001b[39;49m\u001b[39m\\\u001b[39;49m\u001b[39mgeckodriver.exe\u001b[39;49m\u001b[39m'\u001b[39;49m, options\u001b[39m=\u001b[39;49moptions)\n\u001b[0;32m      <a href='vscode-notebook-cell:/c%3A/Users/beam_/Desktop/Project%20314/%E0%B8%82%E0%B8%B1%E0%B9%89%E0%B8%99%E0%B8%95%E0%B8%AD%E0%B8%99%E0%B8%81%E0%B8%B2%E0%B8%A3%E0%B8%97%E0%B8%B3%E0%B8%87%E0%B8%B2%E0%B8%99/C-vitt_Jelly.ipynb#X46sZmlsZQ%3D%3D?line=3'>4</a>\u001b[0m driver\u001b[39m.\u001b[39mget(\u001b[39m'\u001b[39m\u001b[39mhttps://shopee.co.th/search?keyword=c-vitt\u001b[39m\u001b[39m%20%\u001b[39;00m\u001b[39mE0\u001b[39m\u001b[39m%\u001b[39m\u001b[39mB9\u001b[39m\u001b[39m%80%\u001b[39;00m\u001b[39mE0\u001b[39m\u001b[39m%\u001b[39m\u001b[39mB8\u001b[39m\u001b[39m%\u001b[39m\u001b[39mA2\u001b[39m\u001b[39m%E\u001b[39;00m\u001b[39m0\u001b[39m\u001b[39m%\u001b[39m\u001b[39mB8\u001b[39m\u001b[39m%\u001b[39m\u001b[39mA5\u001b[39m\u001b[39m%E\u001b[39;00m\u001b[39m0\u001b[39m\u001b[39m%\u001b[39m\u001b[39mB8\u001b[39m\u001b[39m%\u001b[39m\u001b[39mA5\u001b[39m\u001b[39m%E\u001b[39;00m\u001b[39m0\u001b[39m\u001b[39m%\u001b[39m\u001b[39mB8\u001b[39m\u001b[39m%\u001b[39m\u001b[39mB5\u001b[39m\u001b[39m%E\u001b[39;00m\u001b[39m0\u001b[39m\u001b[39m%\u001b[39m\u001b[39mB9\u001b[39m\u001b[39m%\u001b[39m\u001b[39m88\u001b[39m\u001b[39m'\u001b[39m)\n",
      "File \u001b[1;32mc:\\ProgramData\\Miniconda3\\lib\\site-packages\\selenium\\webdriver\\firefox\\webdriver.py:164\u001b[0m, in \u001b[0;36mWebDriver.__init__\u001b[1;34m(self, firefox_profile, firefox_binary, timeout, capabilities, proxy, executable_path, options, service_log_path, firefox_options, service_args, desired_capabilities, log_path, keep_alive)\u001b[0m\n\u001b[0;32m    159\u001b[0m capabilities\u001b[39m.\u001b[39mpop(\u001b[39m\"\u001b[39m\u001b[39mmarionette\u001b[39m\u001b[39m\"\u001b[39m)\n\u001b[0;32m    160\u001b[0m \u001b[39mself\u001b[39m\u001b[39m.\u001b[39mservice \u001b[39m=\u001b[39m Service(\n\u001b[0;32m    161\u001b[0m     executable_path,\n\u001b[0;32m    162\u001b[0m     service_args\u001b[39m=\u001b[39mservice_args,\n\u001b[0;32m    163\u001b[0m     log_path\u001b[39m=\u001b[39mservice_log_path)\n\u001b[1;32m--> 164\u001b[0m \u001b[39mself\u001b[39;49m\u001b[39m.\u001b[39;49mservice\u001b[39m.\u001b[39;49mstart()\n\u001b[0;32m    166\u001b[0m capabilities\u001b[39m.\u001b[39mupdate(options\u001b[39m.\u001b[39mto_capabilities())\n\u001b[0;32m    168\u001b[0m executor \u001b[39m=\u001b[39m FirefoxRemoteConnection(\n\u001b[0;32m    169\u001b[0m     remote_server_addr\u001b[39m=\u001b[39m\u001b[39mself\u001b[39m\u001b[39m.\u001b[39mservice\u001b[39m.\u001b[39mservice_url)\n",
      "File \u001b[1;32mc:\\ProgramData\\Miniconda3\\lib\\site-packages\\selenium\\webdriver\\common\\service.py:81\u001b[0m, in \u001b[0;36mService.start\u001b[1;34m(self)\u001b[0m\n\u001b[0;32m     79\u001b[0m \u001b[39mexcept\u001b[39;00m \u001b[39mOSError\u001b[39;00m \u001b[39mas\u001b[39;00m err:\n\u001b[0;32m     80\u001b[0m     \u001b[39mif\u001b[39;00m err\u001b[39m.\u001b[39merrno \u001b[39m==\u001b[39m errno\u001b[39m.\u001b[39mENOENT:\n\u001b[1;32m---> 81\u001b[0m         \u001b[39mraise\u001b[39;00m WebDriverException(\n\u001b[0;32m     82\u001b[0m             \u001b[39m\"\u001b[39m\u001b[39m'\u001b[39m\u001b[39m%s\u001b[39;00m\u001b[39m'\u001b[39m\u001b[39m executable needs to be in PATH. \u001b[39m\u001b[39m%s\u001b[39;00m\u001b[39m\"\u001b[39m \u001b[39m%\u001b[39m (\n\u001b[0;32m     83\u001b[0m                 os\u001b[39m.\u001b[39mpath\u001b[39m.\u001b[39mbasename(\u001b[39mself\u001b[39m\u001b[39m.\u001b[39mpath), \u001b[39mself\u001b[39m\u001b[39m.\u001b[39mstart_error_message)\n\u001b[0;32m     84\u001b[0m         )\n\u001b[0;32m     85\u001b[0m     \u001b[39melif\u001b[39;00m err\u001b[39m.\u001b[39merrno \u001b[39m==\u001b[39m errno\u001b[39m.\u001b[39mEACCES:\n\u001b[0;32m     86\u001b[0m         \u001b[39mraise\u001b[39;00m WebDriverException(\n\u001b[0;32m     87\u001b[0m             \u001b[39m\"\u001b[39m\u001b[39m'\u001b[39m\u001b[39m%s\u001b[39;00m\u001b[39m'\u001b[39m\u001b[39m executable may have wrong permissions. \u001b[39m\u001b[39m%s\u001b[39;00m\u001b[39m\"\u001b[39m \u001b[39m%\u001b[39m (\n\u001b[0;32m     88\u001b[0m                 os\u001b[39m.\u001b[39mpath\u001b[39m.\u001b[39mbasename(\u001b[39mself\u001b[39m\u001b[39m.\u001b[39mpath), \u001b[39mself\u001b[39m\u001b[39m.\u001b[39mstart_error_message)\n\u001b[0;32m     89\u001b[0m         )\n",
      "\u001b[1;31mWebDriverException\u001b[0m: Message: 'geckodriver.exe' executable needs to be in PATH. \n"
     ]
    }
   ],
   "source": [
    "options = Options()\n",
    "options.binary_location = r'C:\\Program Files\\Mozilla Firefox\\firefox.exe'\n",
    "driver = webdriver.Firefox(executable_path=r'C:\\Users\\G15\\Downloads\\shoppee\\geckodriver.exe', options=options)\n",
    "driver.get('https://shopee.co.th/search?keyword=c-vitt%20%E0%B9%80%E0%B8%A2%E0%B8%A5%E0%B8%A5%E0%B8%B5%E0%B9%88')"
   ]
  },
  {
   "cell_type": "markdown",
   "id": "247d58be",
   "metadata": {},
   "source": [
    "เรียกใช้ Selenium และเปิดเว็ปที่ต้องการ scrap ซึ่ง website ที่ใช้ Shopee จะมีหน้าในการเลือกภาษาและ Zoomout page เพื่อโหลดข้อมูล \n",
    "( ขั้นตอนนี้ขึ้นอยู่แต่ละ website ที่จะนำไป scrap ) "
   ]
  },
  {
   "cell_type": "code",
   "execution_count": null,
   "id": "e7072a81",
   "metadata": {},
   "outputs": [],
   "source": [
    "#เลือกภาษาไทย Selenium\n",
    "thai_button = driver.find_element(\"xpath\",'/html/body/div[2]/div[1]/div[1]/div/div[3]/div[1]/button').click()\n",
    "time.sleep(6)"
   ]
  },
  {
   "cell_type": "code",
   "execution_count": null,
   "id": "9d04c9fe",
   "metadata": {},
   "outputs": [],
   "source": [
    "#Zoom out เพื่อให้ load ทั่วหน้าจอ\n",
    "driver.execute_script(\"document.body.style.MozTransform='scale(0.1)';\")\n",
    "driver.execute_script('document.body.style.MozTransformOrigin = \"0 0\";')"
   ]
  },
  {
   "cell_type": "markdown",
   "id": "f4e13c94",
   "metadata": {},
   "source": [
    "# เริ่มต้นขั้นตอน Scraping โดยใช้ BS4"
   ]
  },
  {
   "cell_type": "code",
   "execution_count": null,
   "id": "d8a60549",
   "metadata": {},
   "outputs": [],
   "source": [
    "data = driver.page_source #ดึงข้อมูลจากหน้าเว็บ\n",
    "soup = bs4.BeautifulSoup(data) #จัดในรูปแบบ BeautifulSoup\n",
    "time.sleep(6)"
   ]
  },
  {
   "cell_type": "code",
   "execution_count": null,
   "id": "93481a5f",
   "metadata": {},
   "outputs": [],
   "source": [
    "soup.select(\".row>div\") #css selector"
   ]
  },
  {
   "cell_type": "code",
   "execution_count": null,
   "id": "0b366541",
   "metadata": {},
   "outputs": [],
   "source": [
    "el=soup.select(\".row>div\")"
   ]
  },
  {
   "cell_type": "code",
   "execution_count": null,
   "id": "14f975dc",
   "metadata": {},
   "outputs": [],
   "source": [
    "len(el)"
   ]
  },
  {
   "cell_type": "markdown",
   "id": "934c0218",
   "metadata": {},
   "source": [
    "ทดลอง Scrap ชื่อสินค้า"
   ]
  },
  {
   "cell_type": "code",
   "execution_count": null,
   "id": "c36a2a64",
   "metadata": {},
   "outputs": [],
   "source": [
    "e = el[0] #แทนกล่องของสินค้าแต่ละกล่อง"
   ]
  },
  {
   "cell_type": "code",
   "execution_count": null,
   "id": "5aa138c9",
   "metadata": {},
   "outputs": [],
   "source": [
    "#ดึงข้อมูลชื่อ\n",
    "e.select_one(\"div.col-xs-2-4:nth-child(1) > a:nth-child(1) > div:nth-child(1) > div:nth-child(1) > div:nth-child(2) > div:nth-child(1)\").text.strip()"
   ]
  },
  {
   "cell_type": "markdown",
   "id": "10fdc740",
   "metadata": {},
   "source": [
    "ทอลอง Scrap ราคา"
   ]
  },
  {
   "cell_type": "code",
   "execution_count": null,
   "id": "ab09d5f5",
   "metadata": {},
   "outputs": [],
   "source": [
    "#ราคา A baht - B baht, ราคาเต็ม\n",
    "e.select_one(\"div.col-xs-2-4:nth-child(1) > a:nth-child(1) > div:nth-child(1) > div:nth-child(1) > div:nth-child(2) > div:nth-child(2)\").text.strip()"
   ]
  },
  {
   "cell_type": "code",
   "execution_count": null,
   "id": "eb07263a",
   "metadata": {},
   "outputs": [],
   "source": [
    "#รวม ราคาถูกสุด\n",
    "try:\n",
    "    p = e.select_one(\"div.col-xs-2-4:nth-child(1) > a:nth-child(1) > div:nth-child(1) > div:nth-child(1) > div:nth-child(2) > div:nth-child(2)\").text.strip()\n",
    "except:\n",
    "    p = e.select_one(\"div.col-xs-2-4:nth-child(1) > a:nth-child(1) > div:nth-child(1) > div:nth-child(1) > div:nth-child(2) > div:nth-child(2)\").text.strip()\n",
    "p = p.replace(\",\", \"\").replace(\"฿\", \"\").replace(\" \", \"\")\n",
    "try:\n",
    "    start_price = float(p)\n",
    "except:\n",
    "    price = p.rpartition('-')[0]\n",
    "    start_price = float(price)\n",
    "\n",
    "start_price"
   ]
  },
  {
   "cell_type": "markdown",
   "id": "db8e5cd0",
   "metadata": {},
   "source": [
    "ทดลอง Scrap ยอดขาย\n"
   ]
  },
  {
   "cell_type": "code",
   "execution_count": null,
   "id": "6f91afff",
   "metadata": {},
   "outputs": [],
   "source": [
    "#Scrape ยอดขาย\n",
    "sales = e.select_one(\"div.col-xs-2-4:nth-child(1) > a:nth-child(1) > div:nth-child(1) > div:nth-child(1) > div:nth-child(2) > div:nth-child(3) > div:nth-child(2)\").text.strip().replace(\"พัน\",\"000\").replace(\"ล้าน\",\"000000\")\n",
    "try:\n",
    "    sales = float(re.sub('\\D','',sales))\n",
    "except:\n",
    "    sales = 0\n",
    "sales"
   ]
  },
  {
   "cell_type": "markdown",
   "id": "0bf7bfb6",
   "metadata": {},
   "source": [
    "ทดลอง Scrap จังหวัด"
   ]
  },
  {
   "cell_type": "code",
   "execution_count": null,
   "id": "c394b481",
   "metadata": {},
   "outputs": [],
   "source": [
    "#Scrape จังหวัด\n",
    "#จังหวัด\n",
    "e.select_one(\"div.col-xs-2-4:nth-child(1) > a:nth-child(1) > div:nth-child(1) > div:nth-child(1) > div:nth-child(2) > div:nth-child(4)\").text.strip()"
   ]
  },
  {
   "cell_type": "markdown",
   "id": "5427ae7b",
   "metadata": {},
   "source": [
    "## นำขั้นตอนการเก็บข้อมูลทั้งหมดมาเข้า Loop เพื่อทำการ Scrap สินค้าทั้งหมดในทุกหน้า"
   ]
  },
  {
   "cell_type": "code",
   "execution_count": null,
   "id": "f23fa944",
   "metadata": {},
   "outputs": [],
   "source": [
    "time.sleep(6)\n",
    "records=[]\n",
    "for i in range(2):\n",
    "    data = driver.page_source\n",
    "    soup = bs4.BeautifulSoup(data)\n",
    "    el=soup.select(\".row>div\")\n",
    "    for e in el:\n",
    "        name = e.select_one(\"div.col-xs-2-4 > a:nth-child(1) > div:nth-child(1) > div:nth-child(1) > div:nth-child(2) > div:nth-child(1) > div:nth-child(1) > div:nth-child(1)\").text.strip()\n",
    "        try:\n",
    "            p = e.select_one(\"div.col-xs-2-4 > a > div:nth-child(1) > div:nth-child(1) > div:nth-child(2) > div:nth-child(2) > div:nth-child(2)\").text.strip()\n",
    "            if p == '':\n",
    "                print(1/0)\n",
    "        except:\n",
    "            p = e.select_one(\"div.col-xs-2-4 > a:nth-child(1) > div:nth-child(1) > div:nth-child(1) > div:nth-child(2) > div:nth-child(2) > div:nth-child(1)\").text.strip()\n",
    "        p = p.replace(\",\", \"\").replace(\"฿\", \"\").replace(\" \", \"\")\n",
    "        try:\n",
    "            start_price = float(p)\n",
    "        except:\n",
    "            price = p.rpartition('-')[0]\n",
    "            start_price = float(price)\n",
    "\n",
    "        sales = e.select_one(\"div.col-xs-2-4 > a:nth-child(1) > div:nth-child(1) > div:nth-child(1) > div:nth-child(2) > div:nth-child(3)\").text.strip().replace(\"พัน\",\"00\").replace(\"ล้าน\",\"00000\")\n",
    "        try:\n",
    "            sales = float(re.sub('\\D','',sales))\n",
    "        except:\n",
    "            sales = 0\n",
    "        province = e.select_one(\"div.col-xs-2-4 > a:nth-child(1) > div:nth-child(1) > div:nth-child(1) > div:nth-child(2) > div:nth-child(4)\").text.strip()\n",
    "        #print(name, p)\n",
    "        records.append([name, start_price,sales,province])"
   ]
  },
  {
   "cell_type": "code",
   "execution_count": null,
   "id": "feed21da",
   "metadata": {},
   "outputs": [],
   "source": [
    "len(records)"
   ]
  },
  {
   "cell_type": "markdown",
   "id": "3640ef6a",
   "metadata": {},
   "source": [
    "## นำข้อมูลที่ได้ใส่ลงใน DataFrame"
   ]
  },
  {
   "cell_type": "code",
   "execution_count": null,
   "id": "4b7e331e",
   "metadata": {},
   "outputs": [],
   "source": [
    "#ทำเป็น DataFrame\n",
    "df = pd.DataFrame(records, columns=['itemname','price range','sales','province'])\n",
    "df"
   ]
  },
  {
   "cell_type": "markdown",
   "id": "3532e6f5",
   "metadata": {},
   "source": [
    "แปลงเป็นไฟล์ Excel บันทึกอักษรเป็นแบบ มาตรฐาน UTF-8"
   ]
  },
  {
   "cell_type": "code",
   "execution_count": null,
   "id": "d85e37f0",
   "metadata": {},
   "outputs": [],
   "source": [
    "df.to_excel('Shopee_C-vitt.xlsx', encoding='utf-8')"
   ]
  }
 ],
 "metadata": {
  "kernelspec": {
   "display_name": "Python 3",
   "language": "python",
   "name": "python3"
  },
  "language_info": {
   "codemirror_mode": {
    "name": "ipython",
    "version": 3
   },
   "file_extension": ".py",
   "mimetype": "text/x-python",
   "name": "python",
   "nbconvert_exporter": "python",
   "pygments_lexer": "ipython3",
   "version": "3.9.5"
  },
  "vscode": {
   "interpreter": {
    "hash": "19d1d53a962d236aa061289c2ac16dc8e6d9648c89fe79f459ae9a3493bc67b4"
   }
  }
 },
 "nbformat": 4,
 "nbformat_minor": 5
}
